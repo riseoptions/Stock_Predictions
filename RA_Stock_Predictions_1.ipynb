{
 "cells": [
  {
   "cell_type": "code",
   "execution_count": 1,
   "metadata": {},
   "outputs": [],
   "source": [
    "code = 'AAPL'"
   ]
  },
  {
   "cell_type": "code",
   "execution_count": 2,
   "metadata": {},
   "outputs": [],
   "source": [
    "#\n",
    "import numpy as np \n",
    "import pandas as pd \n",
    "import os \n",
    "import matplotlib.pyplot as plt \n",
    "\n",
    "import warnings\n",
    "warnings.filterwarnings('ignore')"
   ]
  },
  {
   "cell_type": "code",
   "execution_count": 3,
   "metadata": {},
   "outputs": [
    {
     "data": {
      "text/html": [
       "<div>\n",
       "<style scoped>\n",
       "    .dataframe tbody tr th:only-of-type {\n",
       "        vertical-align: middle;\n",
       "    }\n",
       "\n",
       "    .dataframe tbody tr th {\n",
       "        vertical-align: top;\n",
       "    }\n",
       "\n",
       "    .dataframe thead th {\n",
       "        text-align: right;\n",
       "    }\n",
       "</style>\n",
       "<table border=\"1\" class=\"dataframe\">\n",
       "  <thead>\n",
       "    <tr style=\"text-align: right;\">\n",
       "      <th></th>\n",
       "      <th>Date</th>\n",
       "      <th>Open</th>\n",
       "      <th>High</th>\n",
       "      <th>Low</th>\n",
       "      <th>Close</th>\n",
       "      <th>Adj Close</th>\n",
       "      <th>Volume</th>\n",
       "    </tr>\n",
       "  </thead>\n",
       "  <tbody>\n",
       "    <tr>\n",
       "      <th>0</th>\n",
       "      <td>2018-03-12</td>\n",
       "      <td>45.072498</td>\n",
       "      <td>45.597500</td>\n",
       "      <td>45.052502</td>\n",
       "      <td>45.430000</td>\n",
       "      <td>43.309387</td>\n",
       "      <td>128828400</td>\n",
       "    </tr>\n",
       "    <tr>\n",
       "      <th>1</th>\n",
       "      <td>2018-03-13</td>\n",
       "      <td>45.647499</td>\n",
       "      <td>45.875000</td>\n",
       "      <td>44.810001</td>\n",
       "      <td>44.992500</td>\n",
       "      <td>42.892307</td>\n",
       "      <td>126774000</td>\n",
       "    </tr>\n",
       "    <tr>\n",
       "      <th>2</th>\n",
       "      <td>2018-03-14</td>\n",
       "      <td>45.080002</td>\n",
       "      <td>45.130001</td>\n",
       "      <td>44.452499</td>\n",
       "      <td>44.610001</td>\n",
       "      <td>42.527645</td>\n",
       "      <td>117473600</td>\n",
       "    </tr>\n",
       "    <tr>\n",
       "      <th>3</th>\n",
       "      <td>2018-03-15</td>\n",
       "      <td>44.625000</td>\n",
       "      <td>45.060001</td>\n",
       "      <td>44.517502</td>\n",
       "      <td>44.662498</td>\n",
       "      <td>42.577709</td>\n",
       "      <td>90975200</td>\n",
       "    </tr>\n",
       "    <tr>\n",
       "      <th>4</th>\n",
       "      <td>2018-03-16</td>\n",
       "      <td>44.662498</td>\n",
       "      <td>44.779999</td>\n",
       "      <td>44.404999</td>\n",
       "      <td>44.505001</td>\n",
       "      <td>42.427559</td>\n",
       "      <td>157618800</td>\n",
       "    </tr>\n",
       "  </tbody>\n",
       "</table>\n",
       "</div>"
      ],
      "text/plain": [
       "         Date       Open       High        Low      Close  Adj Close  \\\n",
       "0  2018-03-12  45.072498  45.597500  45.052502  45.430000  43.309387   \n",
       "1  2018-03-13  45.647499  45.875000  44.810001  44.992500  42.892307   \n",
       "2  2018-03-14  45.080002  45.130001  44.452499  44.610001  42.527645   \n",
       "3  2018-03-15  44.625000  45.060001  44.517502  44.662498  42.577709   \n",
       "4  2018-03-16  44.662498  44.779999  44.404999  44.505001  42.427559   \n",
       "\n",
       "      Volume  \n",
       "0  128828400  \n",
       "1  126774000  \n",
       "2  117473600  \n",
       "3   90975200  \n",
       "4  157618800  "
      ]
     },
     "execution_count": 3,
     "metadata": {},
     "output_type": "execute_result"
    }
   ],
   "source": [
    "#\n",
    "df =pd.read_csv(code+\".csv\", header=0)\n",
    "df.head()"
   ]
  },
  {
   "cell_type": "code",
   "execution_count": 4,
   "metadata": {},
   "outputs": [],
   "source": [
    "df = df[-500:]"
   ]
  },
  {
   "cell_type": "code",
   "execution_count": 5,
   "metadata": {},
   "outputs": [
    {
     "name": "stdout",
     "output_type": "stream",
     "text": [
      "(500, 7)\n"
     ]
    }
   ],
   "source": [
    "#size of the dataset\n",
    "print(df.shape)"
   ]
  },
  {
   "cell_type": "code",
   "execution_count": 6,
   "metadata": {},
   "outputs": [
    {
     "name": "stdout",
     "output_type": "stream",
     "text": [
      "500\n"
     ]
    }
   ],
   "source": [
    "# finind the length of time series\n",
    "print(len(df.Date.values))"
   ]
  },
  {
   "cell_type": "code",
   "execution_count": 7,
   "metadata": {},
   "outputs": [
    {
     "data": {
      "text/html": [
       "<div>\n",
       "<style scoped>\n",
       "    .dataframe tbody tr th:only-of-type {\n",
       "        vertical-align: middle;\n",
       "    }\n",
       "\n",
       "    .dataframe tbody tr th {\n",
       "        vertical-align: top;\n",
       "    }\n",
       "\n",
       "    .dataframe thead th {\n",
       "        text-align: right;\n",
       "    }\n",
       "</style>\n",
       "<table border=\"1\" class=\"dataframe\">\n",
       "  <thead>\n",
       "    <tr style=\"text-align: right;\">\n",
       "      <th></th>\n",
       "      <th>Open</th>\n",
       "      <th>High</th>\n",
       "      <th>Low</th>\n",
       "      <th>Close</th>\n",
       "      <th>Adj Close</th>\n",
       "      <th>Volume</th>\n",
       "    </tr>\n",
       "  </thead>\n",
       "  <tbody>\n",
       "    <tr>\n",
       "      <th>count</th>\n",
       "      <td>500.000000</td>\n",
       "      <td>500.000000</td>\n",
       "      <td>500.000000</td>\n",
       "      <td>500.000000</td>\n",
       "      <td>500.000000</td>\n",
       "      <td>5.000000e+02</td>\n",
       "    </tr>\n",
       "    <tr>\n",
       "      <th>mean</th>\n",
       "      <td>149.208120</td>\n",
       "      <td>151.051160</td>\n",
       "      <td>147.532700</td>\n",
       "      <td>149.366480</td>\n",
       "      <td>148.466424</td>\n",
       "      <td>8.517613e+07</td>\n",
       "    </tr>\n",
       "    <tr>\n",
       "      <th>std</th>\n",
       "      <td>14.544200</td>\n",
       "      <td>14.726285</td>\n",
       "      <td>14.317919</td>\n",
       "      <td>14.536855</td>\n",
       "      <td>14.547486</td>\n",
       "      <td>2.519262e+07</td>\n",
       "    </tr>\n",
       "    <tr>\n",
       "      <th>min</th>\n",
       "      <td>119.540001</td>\n",
       "      <td>120.400002</td>\n",
       "      <td>118.860001</td>\n",
       "      <td>119.900002</td>\n",
       "      <td>118.473900</td>\n",
       "      <td>3.519590e+07</td>\n",
       "    </tr>\n",
       "    <tr>\n",
       "      <th>25%</th>\n",
       "      <td>139.899994</td>\n",
       "      <td>142.104996</td>\n",
       "      <td>137.862495</td>\n",
       "      <td>140.057499</td>\n",
       "      <td>139.555416</td>\n",
       "      <td>6.803278e+07</td>\n",
       "    </tr>\n",
       "    <tr>\n",
       "      <th>50%</th>\n",
       "      <td>148.330002</td>\n",
       "      <td>149.800003</td>\n",
       "      <td>146.849999</td>\n",
       "      <td>148.580002</td>\n",
       "      <td>147.642754</td>\n",
       "      <td>7.994805e+07</td>\n",
       "    </tr>\n",
       "    <tr>\n",
       "      <th>75%</th>\n",
       "      <td>159.609997</td>\n",
       "      <td>162.180000</td>\n",
       "      <td>156.795002</td>\n",
       "      <td>159.345001</td>\n",
       "      <td>158.433671</td>\n",
       "      <td>9.604302e+07</td>\n",
       "    </tr>\n",
       "    <tr>\n",
       "      <th>max</th>\n",
       "      <td>182.630005</td>\n",
       "      <td>182.940002</td>\n",
       "      <td>179.119995</td>\n",
       "      <td>182.009995</td>\n",
       "      <td>180.683868</td>\n",
       "      <td>1.954327e+08</td>\n",
       "    </tr>\n",
       "  </tbody>\n",
       "</table>\n",
       "</div>"
      ],
      "text/plain": [
       "             Open        High         Low       Close   Adj Close  \\\n",
       "count  500.000000  500.000000  500.000000  500.000000  500.000000   \n",
       "mean   149.208120  151.051160  147.532700  149.366480  148.466424   \n",
       "std     14.544200   14.726285   14.317919   14.536855   14.547486   \n",
       "min    119.540001  120.400002  118.860001  119.900002  118.473900   \n",
       "25%    139.899994  142.104996  137.862495  140.057499  139.555416   \n",
       "50%    148.330002  149.800003  146.849999  148.580002  147.642754   \n",
       "75%    159.609997  162.180000  156.795002  159.345001  158.433671   \n",
       "max    182.630005  182.940002  179.119995  182.009995  180.683868   \n",
       "\n",
       "             Volume  \n",
       "count  5.000000e+02  \n",
       "mean   8.517613e+07  \n",
       "std    2.519262e+07  \n",
       "min    3.519590e+07  \n",
       "25%    6.803278e+07  \n",
       "50%    7.994805e+07  \n",
       "75%    9.604302e+07  \n",
       "max    1.954327e+08  "
      ]
     },
     "execution_count": 7,
     "metadata": {},
     "output_type": "execute_result"
    }
   ],
   "source": [
    "#gives the details of each columns of the dataset like mean, max etc\n",
    "df.describe()"
   ]
  },
  {
   "cell_type": "code",
   "execution_count": 8,
   "metadata": {},
   "outputs": [
    {
     "data": {
      "text/plain": [
       "Date         0\n",
       "Open         0\n",
       "High         0\n",
       "Low          0\n",
       "Close        0\n",
       "Adj Close    0\n",
       "Volume       0\n",
       "dtype: int64"
      ]
     },
     "execution_count": 8,
     "metadata": {},
     "output_type": "execute_result"
    }
   ],
   "source": [
    "#checking whether their is any null value in the dataset\n",
    "# .sum() will give the total no. of null value column vise \n",
    "df.isnull().sum()"
   ]
  },
  {
   "cell_type": "code",
   "execution_count": 9,
   "metadata": {},
   "outputs": [
    {
     "data": {
      "image/png": "[encoded data removed]",
      "text/plain": [
       "<Figure size 720x720 with 2 Axes>"
      ]
     },
     "metadata": {
      "needs_background": "light"
     },
     "output_type": "display_data"
    }
   ],
   "source": [
    "f, axs = plt.subplots(2,2,figsize=(10,10))\n",
    "plt.subplot(2,1,1)\n",
    "open = df.Open.values.astype('float32')\n",
    "\n",
    "\n",
    "plt.grid(True)\n",
    "plt.xlabel('Time') \n",
    "plt.ylabel(\"open prices\")\n",
    "plt.title(code)\n",
    "plt.plot(open , 'g') \n",
    "    \n",
    "    \n",
    "plt.subplot(2,1,2)\n",
    "close = df.Close.values.astype('float32')\n",
    "\n",
    "\n",
    "plt.xlabel('Time') \n",
    "plt.ylabel(\"close prices\")\n",
    "plt.title(code) \n",
    "plt.grid(True)\n",
    "plt.plot(close , 'b')\n",
    "plt.show()"
   ]
  },
  {
   "cell_type": "code",
   "execution_count": 10,
   "metadata": {},
   "outputs": [],
   "source": [
    "#taking the values of closing_stock in a single list called stocks\n",
    "stocks = close[:]\n",
    "#print(stocks)\n",
    "#reshaping the stocks in 1D array form\n",
    "stocks = stocks.reshape(len(stocks) , 1)"
   ]
  },
  {
   "cell_type": "code",
   "execution_count": 11,
   "metadata": {},
   "outputs": [],
   "source": [
    "# **Feature scaling the vector for better model performance.**\n",
    "from sklearn.preprocessing import MinMaxScaler\n",
    "scaler = MinMaxScaler(feature_range=(0, 1)) #scaling features between 0 and 1\n",
    "stocks = scaler.fit_transform(stocks) # it will start learning algo and then provide scaled and dimension reduced output"
   ]
  },
  {
   "cell_type": "code",
   "execution_count": 12,
   "metadata": {},
   "outputs": [],
   "source": [
    "train = int(len(stocks) * 0.80) #creating sizes of train and taking 80% percentage of the part\n",
    "test = len(stocks) - train #creating sizes of test as total minus train"
   ]
  },
  {
   "cell_type": "code",
   "execution_count": 13,
   "metadata": {},
   "outputs": [
    {
     "name": "stdout",
     "output_type": "stream",
     "text": [
      "400 100\n"
     ]
    }
   ],
   "source": [
    "#sizes of train and test\n",
    "print(train , test)"
   ]
  },
  {
   "cell_type": "code",
   "execution_count": 14,
   "metadata": {},
   "outputs": [],
   "source": [
    "#divinding the values of stocks data to train from 0 to  80% data\n",
    "train = stocks[0:train]\n",
    "#print(train)"
   ]
  },
  {
   "cell_type": "code",
   "execution_count": 15,
   "metadata": {},
   "outputs": [],
   "source": [
    "#divinding the values of stocks data to test from train ending to stock data ending i.e rest 20% data\n",
    "test = stocks[len(train) : ]"
   ]
  },
  {
   "cell_type": "code",
   "execution_count": 16,
   "metadata": {},
   "outputs": [],
   "source": [
    "#reshaping train data in 1D array form\n",
    "train = train.reshape(len(train) , 1)\n",
    "#reshaping test data in 1D array form\n",
    "test = test.reshape(len(test) , 1)"
   ]
  },
  {
   "cell_type": "code",
   "execution_count": 17,
   "metadata": {},
   "outputs": [
    {
     "name": "stdout",
     "output_type": "stream",
     "text": [
      "(400, 1) (100, 1)\n"
     ]
    }
   ],
   "source": [
    "#new train and test array shape\n",
    "print(train.shape , test.shape)"
   ]
  },
  {
   "cell_type": "code",
   "execution_count": 18,
   "metadata": {},
   "outputs": [],
   "source": [
    "#creating function to create trainX,testX and target(trainY, testY)\n",
    "def process_data(data , n_features):\n",
    "    dataX, dataY = [], [] \n",
    "    for i in range(len(data)-n_features-1):\n",
    "        a = data[i:(i+n_features), 0]\n",
    "        dataX.append(a) \n",
    "        dataY.append(data[i + n_features, 0])\n",
    "        \n",
    "    return np.array(dataX), np.array(dataY)\n",
    "\n",
    "#so the stucture of trainX and trainY is somehow like this\n",
    "# trainX=[[i1 , i2,...., i n_features ]] and trainY=[i + n_features]  \n",
    "# trainY will show the future value of trainX values"
   ]
  },
  {
   "cell_type": "code",
   "execution_count": 19,
   "metadata": {},
   "outputs": [],
   "source": [
    "n_features = 2\n",
    "trainX, trainY = process_data(train, n_features)\n",
    "testX, testY = process_data(test, n_features)"
   ]
  },
  {
   "cell_type": "code",
   "execution_count": 20,
   "metadata": {},
   "outputs": [
    {
     "name": "stdout",
     "output_type": "stream",
     "text": [
      "(397, 2) (397,) (97, 2) (97,)\n"
     ]
    }
   ],
   "source": [
    "# printing the structure of train X,Y and test X,Y\n",
    "print(trainX.shape , trainY.shape , testX.shape , testY.shape)"
   ]
  },
  {
   "cell_type": "code",
   "execution_count": 21,
   "metadata": {},
   "outputs": [],
   "source": [
    "# reshaping trainX and testX to use in deeplearning model\n",
    "trainX = trainX.reshape(trainX.shape[0] , 1 ,trainX.shape[1])\n",
    "testX = testX.reshape(testX.shape[0] , 1 ,testX.shape[1])"
   ]
  },
  {
   "cell_type": "code",
   "execution_count": 22,
   "metadata": {},
   "outputs": [],
   "source": [
    "import math \n",
    "from keras.models import Sequential\n",
    "from keras.layers import Dense , BatchNormalization , Dropout , Activation # types of layers\n",
    "from keras.layers import LSTM , GRU \n",
    "from sklearn.preprocessing import MinMaxScaler \n",
    "from sklearn.metrics import mean_squared_error \n",
    "from keras.optimizers import Adam , SGD , RMSprop "
   ]
  },
  {
   "cell_type": "code",
   "execution_count": 23,
   "metadata": {},
   "outputs": [],
   "source": [
    "from keras.callbacks import ReduceLROnPlateau , ModelCheckpoint"
   ]
  },
  {
   "cell_type": "code",
   "execution_count": 24,
   "metadata": {},
   "outputs": [
    {
     "name": "stdout",
     "output_type": "stream",
     "text": [
      "WARNING:tensorflow:`epsilon` argument is deprecated and will be removed, use `min_delta` instead.\n"
     ]
    }
   ],
   "source": [
    "filepath=\"stock_weights1.hdf5\"\n",
    "lr_reduce = ReduceLROnPlateau(monitor='val_loss', factor=0.1, epsilon=0.0001, patience=1, verbose=1)\n",
    "checkpoint = ModelCheckpoint(filepath, monitor='val_loss', verbose=1, save_best_only=True, mode='max')"
   ]
  },
  {
   "cell_type": "code",
   "execution_count": 25,
   "metadata": {},
   "outputs": [
    {
     "name": "stdout",
     "output_type": "stream",
     "text": [
      "Model: \"sequential\"\n",
      "_________________________________________________________________\n",
      " Layer (type)                Output Shape              Param #   \n",
      "=================================================================\n",
      " gru (GRU)                   (None, 1, 256)            199680    \n",
      "                                                                 \n",
      " dropout (Dropout)           (None, 1, 256)            0         \n",
      "                                                                 \n",
      " lstm (LSTM)                 (None, 256)               525312    \n",
      "                                                                 \n",
      " dropout_1 (Dropout)         (None, 256)               0         \n",
      "                                                                 \n",
      " dense (Dense)               (None, 64)                16448     \n",
      "                                                                 \n",
      " dense_1 (Dense)             (None, 1)                 65        \n",
      "                                                                 \n",
      "=================================================================\n",
      "Total params: 741,505\n",
      "Trainable params: 741,505\n",
      "Non-trainable params: 0\n",
      "_________________________________________________________________\n",
      "None\n"
     ]
    }
   ],
   "source": [
    "# creating model for training data using sequential to give series wise output between layers\n",
    "model = Sequential()\n",
    "\n",
    "model.add(GRU(256 , input_shape = (1 , n_features) , return_sequences=True))\n",
    "model.add(Dropout(0.4))\n",
    "model.add(LSTM(256))\n",
    "model.add(Dropout(0.4))\n",
    "model.add(Dense(64 ,  activation = 'relu'))\n",
    "model.add(Dense(1))\n",
    "\n",
    "print(model.summary())"
   ]
  },
  {
   "cell_type": "code",
   "execution_count": 26,
   "metadata": {},
   "outputs": [],
   "source": [
    "# selecting the loss measurement metrics and optimizer for our model , to find out mean square error\n",
    "model.compile(loss='mean_squared_error', optimizer=Adam(lr = 0.0005) , metrics = ['mean_squared_error'])"
   ]
  },
  {
   "cell_type": "code",
   "execution_count": 27,
   "metadata": {},
   "outputs": [
    {
     "name": "stdout",
     "output_type": "stream",
     "text": [
      "Epoch 1/100\n",
      "1/4 [======>.......................] - ETA: 13s - loss: 0.2934 - mean_squared_error: 0.2934\n",
      "Epoch 1: val_loss improved from -inf to 0.13353, saving model to stock_weights1.hdf5\n",
      "4/4 [==============================] - 6s 407ms/step - loss: 0.3008 - mean_squared_error: 0.3008 - val_loss: 0.1335 - val_mean_squared_error: 0.1335 - lr: 5.0000e-04\n",
      "Epoch 2/100\n",
      "1/4 [======>.......................] - ETA: 0s - loss: 0.2634 - mean_squared_error: 0.2634\n",
      "Epoch 2: val_loss did not improve from 0.13353\n",
      "4/4 [==============================] - 0s 29ms/step - loss: 0.2507 - mean_squared_error: 0.2507 - val_loss: 0.1012 - val_mean_squared_error: 0.1012 - lr: 5.0000e-04\n",
      "Epoch 3/100\n",
      "1/4 [======>.......................] - ETA: 0s - loss: 0.2178 - mean_squared_error: 0.2178\n",
      "Epoch 3: val_loss did not improve from 0.13353\n",
      "4/4 [==============================] - 0s 28ms/step - loss: 0.1941 - mean_squared_error: 0.1941 - val_loss: 0.0659 - val_mean_squared_error: 0.0659 - lr: 5.0000e-04\n",
      "Epoch 4/100\n",
      "1/4 [======>.......................] - ETA: 0s - loss: 0.1576 - mean_squared_error: 0.1576\n",
      "Epoch 4: val_loss did not improve from 0.13353\n",
      "4/4 [==============================] - 0s 27ms/step - loss: 0.1288 - mean_squared_error: 0.1288 - val_loss: 0.0315 - val_mean_squared_error: 0.0315 - lr: 5.0000e-04\n",
      "Epoch 5/100\n",
      "1/4 [======>.......................] - ETA: 0s - loss: 0.0915 - mean_squared_error: 0.0915\n",
      "Epoch 5: val_loss did not improve from 0.13353\n",
      "4/4 [==============================] - 0s 25ms/step - loss: 0.0680 - mean_squared_error: 0.0680 - val_loss: 0.0080 - val_mean_squared_error: 0.0080 - lr: 5.0000e-04\n",
      "Epoch 6/100\n",
      "1/4 [======>.......................] - ETA: 0s - loss: 0.0315 - mean_squared_error: 0.0315\n",
      "Epoch 6: val_loss did not improve from 0.13353\n",
      "\n",
      "Epoch 6: ReduceLROnPlateau reducing learning rate to 5.0000002374872565e-05.\n",
      "4/4 [==============================] - 0s 26ms/step - loss: 0.0231 - mean_squared_error: 0.0231 - val_loss: 0.0120 - val_mean_squared_error: 0.0120 - lr: 5.0000e-04\n",
      "Epoch 7/100\n",
      "1/4 [======>.......................] - ETA: 0s - loss: 0.0128 - mean_squared_error: 0.0128\n",
      "Epoch 7: val_loss did not improve from 0.13353\n",
      "\n",
      "Epoch 7: ReduceLROnPlateau reducing learning rate to 5.000000237487257e-06.\n",
      "4/4 [==============================] - 0s 24ms/step - loss: 0.0135 - mean_squared_error: 0.0135 - val_loss: 0.0135 - val_mean_squared_error: 0.0135 - lr: 5.0000e-05\n",
      "Epoch 8/100\n",
      "1/4 [======>.......................] - ETA: 0s - loss: 0.0125 - mean_squared_error: 0.0125\n",
      "Epoch 8: val_loss did not improve from 0.13353\n",
      "\n",
      "Epoch 8: ReduceLROnPlateau reducing learning rate to 5.000000328436726e-07.\n",
      "4/4 [==============================] - 0s 25ms/step - loss: 0.0140 - mean_squared_error: 0.0140 - val_loss: 0.0136 - val_mean_squared_error: 0.0136 - lr: 5.0000e-06\n",
      "Epoch 9/100\n",
      "1/4 [======>.......................] - ETA: 0s - loss: 0.0127 - mean_squared_error: 0.0127\n",
      "Epoch 9: val_loss did not improve from 0.13353\n",
      "\n",
      "Epoch 9: ReduceLROnPlateau reducing learning rate to 5.000000555810402e-08.\n",
      "4/4 [==============================] - 0s 25ms/step - loss: 0.0144 - mean_squared_error: 0.0144 - val_loss: 0.0136 - val_mean_squared_error: 0.0136 - lr: 5.0000e-07\n",
      "Epoch 10/100\n",
      "1/4 [======>.......................] - ETA: 0s - loss: 0.0157 - mean_squared_error: 0.0157\n",
      "Epoch 10: val_loss did not improve from 0.13353\n",
      "\n",
      "Epoch 10: ReduceLROnPlateau reducing learning rate to 5.000000413701855e-09.\n",
      "4/4 [==============================] - 0s 24ms/step - loss: 0.0142 - mean_squared_error: 0.0142 - val_loss: 0.0136 - val_mean_squared_error: 0.0136 - lr: 5.0000e-08\n",
      "Epoch 11/100\n",
      "1/4 [======>.......................] - ETA: 0s - loss: 0.0139 - mean_squared_error: 0.0139\n",
      "Epoch 11: val_loss did not improve from 0.13353\n",
      "\n",
      "Epoch 11: ReduceLROnPlateau reducing learning rate to 5.000000413701855e-10.\n",
      "4/4 [==============================] - 0s 35ms/step - loss: 0.0144 - mean_squared_error: 0.0144 - val_loss: 0.0136 - val_mean_squared_error: 0.0136 - lr: 5.0000e-09\n",
      "Epoch 12/100\n",
      "4/4 [==============================] - ETA: 0s - loss: 0.0149 - mean_squared_error: 0.0149\n",
      "Epoch 12: val_loss did not improve from 0.13353\n",
      "\n",
      "Epoch 12: ReduceLROnPlateau reducing learning rate to 5.000000413701855e-11.\n",
      "4/4 [==============================] - 0s 38ms/step - loss: 0.0149 - mean_squared_error: 0.0149 - val_loss: 0.0136 - val_mean_squared_error: 0.0136 - lr: 5.0000e-10\n",
      "Epoch 13/100\n",
      "4/4 [==============================] - ETA: 0s - loss: 0.0142 - mean_squared_error: 0.0142\n",
      "Epoch 13: val_loss did not improve from 0.13353\n",
      "\n",
      "Epoch 13: ReduceLROnPlateau reducing learning rate to 5.000000413701855e-12.\n",
      "4/4 [==============================] - 0s 33ms/step - loss: 0.0142 - mean_squared_error: 0.0142 - val_loss: 0.0136 - val_mean_squared_error: 0.0136 - lr: 5.0000e-11\n",
      "Epoch 14/100\n",
      "4/4 [==============================] - ETA: 0s - loss: 0.0142 - mean_squared_error: 0.0142\n",
      "Epoch 14: val_loss did not improve from 0.13353\n",
      "\n",
      "Epoch 14: ReduceLROnPlateau reducing learning rate to 5.000000413701855e-13.\n",
      "4/4 [==============================] - 0s 30ms/step - loss: 0.0142 - mean_squared_error: 0.0142 - val_loss: 0.0136 - val_mean_squared_error: 0.0136 - lr: 5.0000e-12\n",
      "Epoch 15/100\n",
      "1/4 [======>.......................] - ETA: 0s - loss: 0.0126 - mean_squared_error: 0.0126\n",
      "Epoch 15: val_loss did not improve from 0.13353\n",
      "\n",
      "Epoch 15: ReduceLROnPlateau reducing learning rate to 5.0000005221220725e-14.\n",
      "4/4 [==============================] - 0s 27ms/step - loss: 0.0138 - mean_squared_error: 0.0138 - val_loss: 0.0136 - val_mean_squared_error: 0.0136 - lr: 5.0000e-13\n",
      "Epoch 16/100\n",
      "4/4 [==============================] - ETA: 0s - loss: 0.0139 - mean_squared_error: 0.0139\n",
      "Epoch 16: val_loss did not improve from 0.13353\n",
      "\n",
      "Epoch 16: ReduceLROnPlateau reducing learning rate to 5.000000589884709e-15.\n",
      "4/4 [==============================] - 0s 33ms/step - loss: 0.0139 - mean_squared_error: 0.0139 - val_loss: 0.0136 - val_mean_squared_error: 0.0136 - lr: 5.0000e-14\n",
      "Epoch 17/100\n",
      "4/4 [==============================] - ETA: 0s - loss: 0.0144 - mean_squared_error: 0.0144\n",
      "Epoch 17: val_loss did not improve from 0.13353\n",
      "\n",
      "Epoch 17: ReduceLROnPlateau reducing learning rate to 5.000000759291298e-16.\n",
      "4/4 [==============================] - 0s 34ms/step - loss: 0.0144 - mean_squared_error: 0.0144 - val_loss: 0.0136 - val_mean_squared_error: 0.0136 - lr: 5.0000e-15\n",
      "Epoch 18/100\n",
      "1/4 [======>.......................] - ETA: 0s - loss: 0.0131 - mean_squared_error: 0.0131\n",
      "Epoch 18: val_loss did not improve from 0.13353\n",
      "\n",
      "Epoch 18: ReduceLROnPlateau reducing learning rate to 5.000000547533061e-17.\n",
      "4/4 [==============================] - 0s 26ms/step - loss: 0.0142 - mean_squared_error: 0.0142 - val_loss: 0.0136 - val_mean_squared_error: 0.0136 - lr: 5.0000e-16\n",
      "Epoch 19/100\n",
      "1/4 [======>.......................] - ETA: 0s - loss: 0.0149 - mean_squared_error: 0.0149\n",
      "Epoch 19: val_loss did not improve from 0.13353\n",
      "\n",
      "Epoch 19: ReduceLROnPlateau reducing learning rate to 5.000000415184163e-18.\n",
      "4/4 [==============================] - 0s 25ms/step - loss: 0.0142 - mean_squared_error: 0.0142 - val_loss: 0.0136 - val_mean_squared_error: 0.0136 - lr: 5.0000e-17\n",
      "Epoch 20/100\n",
      "1/4 [======>.......................] - ETA: 0s - loss: 0.0134 - mean_squared_error: 0.0134\n",
      "Epoch 20: val_loss did not improve from 0.13353\n",
      "\n",
      "Epoch 20: ReduceLROnPlateau reducing learning rate to 5.000000332466102e-19.\n",
      "4/4 [==============================] - 0s 25ms/step - loss: 0.0133 - mean_squared_error: 0.0133 - val_loss: 0.0136 - val_mean_squared_error: 0.0136 - lr: 5.0000e-18\n",
      "Epoch 21/100\n",
      "1/4 [======>.......................] - ETA: 0s - loss: 0.0136 - mean_squared_error: 0.0136\n",
      "Epoch 21: val_loss did not improve from 0.13353\n",
      "\n",
      "Epoch 21: ReduceLROnPlateau reducing learning rate to 5.000000229068525e-20.\n",
      "4/4 [==============================] - 0s 35ms/step - loss: 0.0147 - mean_squared_error: 0.0147 - val_loss: 0.0136 - val_mean_squared_error: 0.0136 - lr: 5.0000e-19\n",
      "Epoch 22/100\n",
      "1/4 [======>.......................] - ETA: 0s - loss: 0.0133 - mean_squared_error: 0.0133\n",
      "Epoch 22: val_loss did not improve from 0.13353\n",
      "\n",
      "Epoch 22: ReduceLROnPlateau reducing learning rate to 5.00000016444504e-21.\n",
      "4/4 [==============================] - 0s 25ms/step - loss: 0.0131 - mean_squared_error: 0.0131 - val_loss: 0.0136 - val_mean_squared_error: 0.0136 - lr: 5.0000e-20\n",
      "Epoch 23/100\n",
      "1/4 [======>.......................] - ETA: 0s - loss: 0.0150 - mean_squared_error: 0.0150\n",
      "Epoch 23: val_loss did not improve from 0.13353\n",
      "\n",
      "Epoch 23: ReduceLROnPlateau reducing learning rate to 5.000000245224397e-22.\n",
      "4/4 [==============================] - 0s 25ms/step - loss: 0.0142 - mean_squared_error: 0.0142 - val_loss: 0.0136 - val_mean_squared_error: 0.0136 - lr: 5.0000e-21\n",
      "Epoch 24/100\n",
      "1/4 [======>.......................] - ETA: 0s - loss: 0.0144 - mean_squared_error: 0.0144\n",
      "Epoch 24: val_loss did not improve from 0.13353\n",
      "\n",
      "Epoch 24: ReduceLROnPlateau reducing learning rate to 5.0000003461985925e-23.\n",
      "4/4 [==============================] - 0s 25ms/step - loss: 0.0139 - mean_squared_error: 0.0139 - val_loss: 0.0136 - val_mean_squared_error: 0.0136 - lr: 5.0000e-22\n",
      "Epoch 25/100\n",
      "1/4 [======>.......................] - ETA: 0s - loss: 0.0117 - mean_squared_error: 0.0117\n",
      "Epoch 25: val_loss did not improve from 0.13353\n",
      "\n",
      "Epoch 25: ReduceLROnPlateau reducing learning rate to 5.000000472416337e-24.\n",
      "4/4 [==============================] - 0s 25ms/step - loss: 0.0135 - mean_squared_error: 0.0135 - val_loss: 0.0136 - val_mean_squared_error: 0.0136 - lr: 5.0000e-23\n",
      "Epoch 26/100\n",
      "1/4 [======>.......................] - ETA: 0s - loss: 0.0128 - mean_squared_error: 0.0128\n",
      "Epoch 26: val_loss did not improve from 0.13353\n",
      "\n",
      "Epoch 26: ReduceLROnPlateau reducing learning rate to 5.000000393530247e-25.\n",
      "4/4 [==============================] - 0s 25ms/step - loss: 0.0134 - mean_squared_error: 0.0134 - val_loss: 0.0136 - val_mean_squared_error: 0.0136 - lr: 5.0000e-24\n",
      "Epoch 27/100\n",
      "1/4 [======>.......................] - ETA: 0s - loss: 0.0121 - mean_squared_error: 0.0121\n",
      "Epoch 27: val_loss did not improve from 0.13353\n",
      "\n",
      "Epoch 27: ReduceLROnPlateau reducing learning rate to 5.000000590745473e-26.\n",
      "4/4 [==============================] - 0s 26ms/step - loss: 0.0139 - mean_squared_error: 0.0139 - val_loss: 0.0136 - val_mean_squared_error: 0.0136 - lr: 5.0000e-25\n",
      "Epoch 28/100\n",
      "1/4 [======>.......................] - ETA: 0s - loss: 0.0146 - mean_squared_error: 0.0146\n",
      "Epoch 28: val_loss did not improve from 0.13353\n",
      "\n",
      "Epoch 28: ReduceLROnPlateau reducing learning rate to 5.000000714004989e-27.\n",
      "4/4 [==============================] - 0s 24ms/step - loss: 0.0144 - mean_squared_error: 0.0144 - val_loss: 0.0136 - val_mean_squared_error: 0.0136 - lr: 5.0000e-26\n",
      "Epoch 29/100\n",
      "1/4 [======>.......................] - ETA: 0s - loss: 0.0129 - mean_squared_error: 0.0129\n",
      "Epoch 29: val_loss did not improve from 0.13353\n",
      "\n",
      "Epoch 29: ReduceLROnPlateau reducing learning rate to 5.00000071400499e-28.\n",
      "4/4 [==============================] - 0s 25ms/step - loss: 0.0141 - mean_squared_error: 0.0141 - val_loss: 0.0136 - val_mean_squared_error: 0.0136 - lr: 5.0000e-27\n",
      "Epoch 30/100\n",
      "1/4 [======>.......................] - ETA: 0s - loss: 0.0123 - mean_squared_error: 0.0123\n",
      "Epoch 30: val_loss did not improve from 0.13353\n",
      "\n",
      "Epoch 30: ReduceLROnPlateau reducing learning rate to 5.000000617708492e-29.\n",
      "4/4 [==============================] - 0s 25ms/step - loss: 0.0140 - mean_squared_error: 0.0140 - val_loss: 0.0136 - val_mean_squared_error: 0.0136 - lr: 5.0000e-28\n",
      "Epoch 31/100\n",
      "1/4 [======>.......................] - ETA: 0s - loss: 0.0136 - mean_squared_error: 0.0136\n",
      "Epoch 31: val_loss did not improve from 0.13353\n",
      "\n",
      "Epoch 31: ReduceLROnPlateau reducing learning rate to 5.0000006177084924e-30.\n",
      "4/4 [==============================] - 0s 25ms/step - loss: 0.0139 - mean_squared_error: 0.0139 - val_loss: 0.0136 - val_mean_squared_error: 0.0136 - lr: 5.0000e-29\n",
      "Epoch 32/100\n",
      "1/4 [======>.......................] - ETA: 0s - loss: 0.0132 - mean_squared_error: 0.0132\n",
      "Epoch 32: val_loss did not improve from 0.13353\n",
      "\n",
      "Epoch 32: ReduceLROnPlateau reducing learning rate to 5.0000007681717695e-31.\n",
      "4/4 [==============================] - 0s 26ms/step - loss: 0.0139 - mean_squared_error: 0.0139 - val_loss: 0.0136 - val_mean_squared_error: 0.0136 - lr: 5.0000e-30\n",
      "Epoch 33/100\n",
      "1/4 [======>.......................] - ETA: 0s - loss: 0.0121 - mean_squared_error: 0.0121\n",
      "Epoch 33: val_loss did not improve from 0.13353\n",
      "\n",
      "Epoch 33: ReduceLROnPlateau reducing learning rate to 5.000000956250865e-32.\n",
      "4/4 [==============================] - 0s 26ms/step - loss: 0.0131 - mean_squared_error: 0.0131 - val_loss: 0.0136 - val_mean_squared_error: 0.0136 - lr: 5.0000e-31\n",
      "Epoch 34/100\n",
      "1/4 [======>.......................] - ETA: 0s - loss: 0.0124 - mean_squared_error: 0.0124\n",
      "Epoch 34: val_loss did not improve from 0.13353\n",
      "\n",
      "Epoch 34: ReduceLROnPlateau reducing learning rate to 5.0000010738003005e-33.\n",
      "4/4 [==============================] - 0s 25ms/step - loss: 0.0130 - mean_squared_error: 0.0130 - val_loss: 0.0136 - val_mean_squared_error: 0.0136 - lr: 5.0000e-32\n",
      "Epoch 35/100\n",
      "1/4 [======>.......................] - ETA: 0s - loss: 0.0149 - mean_squared_error: 0.0149\n",
      "Epoch 35: val_loss did not improve from 0.13353\n",
      "\n",
      "Epoch 35: ReduceLROnPlateau reducing learning rate to 5.000001220737094e-34.\n",
      "4/4 [==============================] - 0s 27ms/step - loss: 0.0139 - mean_squared_error: 0.0139 - val_loss: 0.0136 - val_mean_squared_error: 0.0136 - lr: 5.0000e-33\n",
      "Epoch 36/100\n",
      "1/4 [======>.......................] - ETA: 0s - loss: 0.0142 - mean_squared_error: 0.0142\n",
      "Epoch 36: val_loss did not improve from 0.13353\n",
      "\n",
      "Epoch 36: ReduceLROnPlateau reducing learning rate to 5.000001037066102e-35.\n",
      "4/4 [==============================] - 0s 27ms/step - loss: 0.0141 - mean_squared_error: 0.0141 - val_loss: 0.0136 - val_mean_squared_error: 0.0136 - lr: 5.0000e-34\n",
      "Epoch 37/100\n",
      "1/4 [======>.......................] - ETA: 0s - loss: 0.0149 - mean_squared_error: 0.0149\n",
      "Epoch 37: val_loss did not improve from 0.13353\n",
      "\n",
      "Epoch 37: ReduceLROnPlateau reducing learning rate to 5.000000807477361e-36.\n",
      "4/4 [==============================] - 0s 28ms/step - loss: 0.0138 - mean_squared_error: 0.0138 - val_loss: 0.0136 - val_mean_squared_error: 0.0136 - lr: 5.0000e-35\n",
      "Epoch 38/100\n",
      "1/4 [======>.......................] - ETA: 0s - loss: 0.0120 - mean_squared_error: 0.0120\n",
      "Epoch 38: val_loss did not improve from 0.13353\n",
      "\n",
      "Epoch 38: ReduceLROnPlateau reducing learning rate to 5.000000807477361e-37.\n",
      "4/4 [==============================] - 0s 28ms/step - loss: 0.0135 - mean_squared_error: 0.0135 - val_loss: 0.0136 - val_mean_squared_error: 0.0136 - lr: 5.0000e-36\n",
      "Epoch 39/100\n",
      "1/4 [======>.......................] - ETA: 0s - loss: 0.0137 - mean_squared_error: 0.0137\n",
      "Epoch 39: val_loss did not improve from 0.13353\n",
      "\n",
      "Epoch 39: ReduceLROnPlateau reducing learning rate to 5.000000628111158e-38.\n",
      "4/4 [==============================] - 0s 24ms/step - loss: 0.0139 - mean_squared_error: 0.0139 - val_loss: 0.0136 - val_mean_squared_error: 0.0136 - lr: 5.0000e-37\n",
      "Epoch 40/100\n",
      "3/4 [=====================>........] - ETA: 0s - loss: 0.0139 - mean_squared_error: 0.0139\n",
      "Epoch 40: val_loss did not improve from 0.13353\n",
      "\n",
      "Epoch 40: ReduceLROnPlateau reducing learning rate to 5.000000516007281e-39.\n",
      "4/4 [==============================] - 0s 42ms/step - loss: 0.0139 - mean_squared_error: 0.0139 - val_loss: 0.0136 - val_mean_squared_error: 0.0136 - lr: 5.0000e-38\n",
      "Epoch 41/100\n",
      "1/4 [======>.......................] - ETA: 0s - loss: 0.0140 - mean_squared_error: 0.0140\n",
      "Epoch 41: val_loss did not improve from 0.13353\n",
      "\n",
      "Epoch 41: ReduceLROnPlateau reducing learning rate to 5.000001076526666e-40.\n",
      "4/4 [==============================] - 0s 25ms/step - loss: 0.0142 - mean_squared_error: 0.0142 - val_loss: 0.0136 - val_mean_squared_error: 0.0136 - lr: 5.0000e-39\n",
      "Epoch 42/100\n",
      "1/4 [======>.......................] - ETA: 0s - loss: 0.0173 - mean_squared_error: 0.0173\n",
      "Epoch 42: val_loss did not improve from 0.13353\n",
      "\n",
      "Epoch 42: ReduceLROnPlateau reducing learning rate to 5.000001076526667e-41.\n",
      "4/4 [==============================] - 0s 25ms/step - loss: 0.0147 - mean_squared_error: 0.0147 - val_loss: 0.0136 - val_mean_squared_error: 0.0136 - lr: 5.0000e-40\n",
      "Epoch 43/100\n",
      "1/4 [======>.......................] - ETA: 0s - loss: 0.0151 - mean_squared_error: 0.0151\n",
      "Epoch 43: val_loss did not improve from 0.13353\n",
      "\n",
      "Epoch 43: ReduceLROnPlateau reducing learning rate to 4.99997305055738e-42.\n",
      "4/4 [==============================] - 0s 33ms/step - loss: 0.0145 - mean_squared_error: 0.0145 - val_loss: 0.0136 - val_mean_squared_error: 0.0136 - lr: 5.0000e-41\n",
      "Epoch 44/100\n",
      "4/4 [==============================] - ETA: 0s - loss: 0.0145 - mean_squared_error: 0.0145\n",
      "Epoch 44: val_loss did not improve from 0.13353\n",
      "\n",
      "Epoch 44: ReduceLROnPlateau reducing learning rate to 4.9998329207109475e-43.\n",
      "4/4 [==============================] - 0s 33ms/step - loss: 0.0145 - mean_squared_error: 0.0145 - val_loss: 0.0136 - val_mean_squared_error: 0.0136 - lr: 4.9998e-42\n",
      "Epoch 45/100\n",
      "1/4 [======>.......................] - ETA: 0s - loss: 0.0129 - mean_squared_error: 0.0129\n",
      "Epoch 45: val_loss did not improve from 0.13353\n",
      "\n",
      "Epoch 45: ReduceLROnPlateau reducing learning rate to 5.002635517639597e-44.\n",
      "4/4 [==============================] - 0s 30ms/step - loss: 0.0147 - mean_squared_error: 0.0147 - val_loss: 0.0136 - val_mean_squared_error: 0.0136 - lr: 5.0026e-43\n",
      "Epoch 46/100\n",
      "4/4 [==============================] - ETA: 0s - loss: 0.0144 - mean_squared_error: 0.0144\n",
      "Epoch 46: val_loss did not improve from 0.13353\n",
      "\n",
      "Epoch 46: ReduceLROnPlateau reducing learning rate to 5.0446744715693416e-45.\n",
      "4/4 [==============================] - 0s 34ms/step - loss: 0.0144 - mean_squared_error: 0.0144 - val_loss: 0.0136 - val_mean_squared_error: 0.0136 - lr: 5.0447e-44\n",
      "Epoch 47/100\n",
      "4/4 [==============================] - ETA: 0s - loss: 0.0144 - mean_squared_error: 0.0144\n",
      "Epoch 47: val_loss did not improve from 0.13353\n",
      "\n",
      "Epoch 47: ReduceLROnPlateau reducing learning rate to 5.6051938572992686e-46.\n",
      "4/4 [==============================] - 0s 34ms/step - loss: 0.0144 - mean_squared_error: 0.0144 - val_loss: 0.0136 - val_mean_squared_error: 0.0136 - lr: 5.6052e-45\n",
      "Epoch 48/100\n",
      "1/4 [======>.......................] - ETA: 0s - loss: 0.0151 - mean_squared_error: 0.0151\n",
      "Epoch 48: val_loss did not improve from 0.13353\n",
      "4/4 [==============================] - 0s 26ms/step - loss: 0.0140 - mean_squared_error: 0.0140 - val_loss: 0.0136 - val_mean_squared_error: 0.0136 - lr: 0.0000e+00\n",
      "Epoch 49/100\n",
      "1/4 [======>.......................] - ETA: 0s - loss: 0.0135 - mean_squared_error: 0.0135\n",
      "Epoch 49: val_loss did not improve from 0.13353\n",
      "4/4 [==============================] - 0s 25ms/step - loss: 0.0140 - mean_squared_error: 0.0140 - val_loss: 0.0136 - val_mean_squared_error: 0.0136 - lr: 0.0000e+00\n",
      "Epoch 50/100\n",
      "1/4 [======>.......................] - ETA: 0s - loss: 0.0141 - mean_squared_error: 0.0141\n",
      "Epoch 50: val_loss did not improve from 0.13353\n",
      "4/4 [==============================] - 0s 24ms/step - loss: 0.0143 - mean_squared_error: 0.0143 - val_loss: 0.0136 - val_mean_squared_error: 0.0136 - lr: 0.0000e+00\n",
      "Epoch 51/100\n",
      "1/4 [======>.......................] - ETA: 0s - loss: 0.0147 - mean_squared_error: 0.0147\n",
      "Epoch 51: val_loss did not improve from 0.13353\n",
      "4/4 [==============================] - 0s 26ms/step - loss: 0.0134 - mean_squared_error: 0.0134 - val_loss: 0.0136 - val_mean_squared_error: 0.0136 - lr: 0.0000e+00\n",
      "Epoch 52/100\n",
      "1/4 [======>.......................] - ETA: 0s - loss: 0.0145 - mean_squared_error: 0.0145\n",
      "Epoch 52: val_loss did not improve from 0.13353\n",
      "4/4 [==============================] - 0s 25ms/step - loss: 0.0132 - mean_squared_error: 0.0132 - val_loss: 0.0136 - val_mean_squared_error: 0.0136 - lr: 0.0000e+00\n",
      "Epoch 53/100\n",
      "1/4 [======>.......................] - ETA: 0s - loss: 0.0133 - mean_squared_error: 0.0133\n",
      "Epoch 53: val_loss did not improve from 0.13353\n",
      "4/4 [==============================] - 0s 25ms/step - loss: 0.0145 - mean_squared_error: 0.0145 - val_loss: 0.0136 - val_mean_squared_error: 0.0136 - lr: 0.0000e+00\n",
      "Epoch 54/100\n",
      "1/4 [======>.......................] - ETA: 0s - loss: 0.0131 - mean_squared_error: 0.0131\n",
      "Epoch 54: val_loss did not improve from 0.13353\n",
      "4/4 [==============================] - 0s 26ms/step - loss: 0.0148 - mean_squared_error: 0.0148 - val_loss: 0.0136 - val_mean_squared_error: 0.0136 - lr: 0.0000e+00\n",
      "Epoch 55/100\n",
      "1/4 [======>.......................] - ETA: 0s - loss: 0.0142 - mean_squared_error: 0.0142\n",
      "Epoch 55: val_loss did not improve from 0.13353\n",
      "4/4 [==============================] - 0s 24ms/step - loss: 0.0134 - mean_squared_error: 0.0134 - val_loss: 0.0136 - val_mean_squared_error: 0.0136 - lr: 0.0000e+00\n",
      "Epoch 56/100\n",
      "1/4 [======>.......................] - ETA: 0s - loss: 0.0152 - mean_squared_error: 0.0152\n",
      "Epoch 56: val_loss did not improve from 0.13353\n",
      "4/4 [==============================] - 0s 25ms/step - loss: 0.0136 - mean_squared_error: 0.0136 - val_loss: 0.0136 - val_mean_squared_error: 0.0136 - lr: 0.0000e+00\n",
      "Epoch 57/100\n",
      "1/4 [======>.......................] - ETA: 0s - loss: 0.0131 - mean_squared_error: 0.0131\n",
      "Epoch 57: val_loss did not improve from 0.13353\n",
      "4/4 [==============================] - 0s 24ms/step - loss: 0.0142 - mean_squared_error: 0.0142 - val_loss: 0.0136 - val_mean_squared_error: 0.0136 - lr: 0.0000e+00\n",
      "Epoch 58/100\n",
      "3/4 [=====================>........] - ETA: 0s - loss: 0.0142 - mean_squared_error: 0.0142\n",
      "Epoch 58: val_loss did not improve from 0.13353\n",
      "4/4 [==============================] - 0s 41ms/step - loss: 0.0142 - mean_squared_error: 0.0142 - val_loss: 0.0136 - val_mean_squared_error: 0.0136 - lr: 0.0000e+00\n",
      "Epoch 59/100\n",
      "1/4 [======>.......................] - ETA: 0s - loss: 0.0157 - mean_squared_error: 0.0157\n",
      "Epoch 59: val_loss did not improve from 0.13353\n",
      "4/4 [==============================] - 0s 27ms/step - loss: 0.0144 - mean_squared_error: 0.0144 - val_loss: 0.0136 - val_mean_squared_error: 0.0136 - lr: 0.0000e+00\n",
      "Epoch 60/100\n",
      "1/4 [======>.......................] - ETA: 0s - loss: 0.0136 - mean_squared_error: 0.0136\n",
      "Epoch 60: val_loss did not improve from 0.13353\n",
      "4/4 [==============================] - 0s 25ms/step - loss: 0.0137 - mean_squared_error: 0.0137 - val_loss: 0.0136 - val_mean_squared_error: 0.0136 - lr: 0.0000e+00\n",
      "Epoch 61/100\n",
      "1/4 [======>.......................] - ETA: 0s - loss: 0.0124 - mean_squared_error: 0.0124\n",
      "Epoch 61: val_loss did not improve from 0.13353\n",
      "4/4 [==============================] - 0s 25ms/step - loss: 0.0139 - mean_squared_error: 0.0139 - val_loss: 0.0136 - val_mean_squared_error: 0.0136 - lr: 0.0000e+00\n",
      "Epoch 62/100\n",
      "1/4 [======>.......................] - ETA: 0s - loss: 0.0164 - mean_squared_error: 0.0164\n",
      "Epoch 62: val_loss did not improve from 0.13353\n",
      "4/4 [==============================] - 0s 24ms/step - loss: 0.0144 - mean_squared_error: 0.0144 - val_loss: 0.0136 - val_mean_squared_error: 0.0136 - lr: 0.0000e+00\n",
      "Epoch 63/100\n",
      "1/4 [======>.......................] - ETA: 0s - loss: 0.0157 - mean_squared_error: 0.0157\n",
      "Epoch 63: val_loss did not improve from 0.13353\n",
      "4/4 [==============================] - 0s 24ms/step - loss: 0.0137 - mean_squared_error: 0.0137 - val_loss: 0.0136 - val_mean_squared_error: 0.0136 - lr: 0.0000e+00\n",
      "Epoch 64/100\n",
      "1/4 [======>.......................] - ETA: 0s - loss: 0.0137 - mean_squared_error: 0.0137\n",
      "Epoch 64: val_loss did not improve from 0.13353\n",
      "4/4 [==============================] - 0s 27ms/step - loss: 0.0137 - mean_squared_error: 0.0137 - val_loss: 0.0136 - val_mean_squared_error: 0.0136 - lr: 0.0000e+00\n",
      "Epoch 65/100\n",
      "1/4 [======>.......................] - ETA: 0s - loss: 0.0131 - mean_squared_error: 0.0131\n",
      "Epoch 65: val_loss did not improve from 0.13353\n",
      "4/4 [==============================] - 0s 25ms/step - loss: 0.0142 - mean_squared_error: 0.0142 - val_loss: 0.0136 - val_mean_squared_error: 0.0136 - lr: 0.0000e+00\n",
      "Epoch 66/100\n",
      "1/4 [======>.......................] - ETA: 0s - loss: 0.0124 - mean_squared_error: 0.0124\n",
      "Epoch 66: val_loss did not improve from 0.13353\n",
      "4/4 [==============================] - 0s 25ms/step - loss: 0.0138 - mean_squared_error: 0.0138 - val_loss: 0.0136 - val_mean_squared_error: 0.0136 - lr: 0.0000e+00\n",
      "Epoch 67/100\n",
      "1/4 [======>.......................] - ETA: 0s - loss: 0.0139 - mean_squared_error: 0.0139\n",
      "Epoch 67: val_loss did not improve from 0.13353\n",
      "4/4 [==============================] - 0s 24ms/step - loss: 0.0140 - mean_squared_error: 0.0140 - val_loss: 0.0136 - val_mean_squared_error: 0.0136 - lr: 0.0000e+00\n",
      "Epoch 68/100\n",
      "1/4 [======>.......................] - ETA: 0s - loss: 0.0142 - mean_squared_error: 0.0142\n",
      "Epoch 68: val_loss did not improve from 0.13353\n",
      "4/4 [==============================] - 0s 24ms/step - loss: 0.0143 - mean_squared_error: 0.0143 - val_loss: 0.0136 - val_mean_squared_error: 0.0136 - lr: 0.0000e+00\n",
      "Epoch 69/100\n",
      "1/4 [======>.......................] - ETA: 0s - loss: 0.0126 - mean_squared_error: 0.0126\n",
      "Epoch 69: val_loss did not improve from 0.13353\n",
      "4/4 [==============================] - 0s 25ms/step - loss: 0.0140 - mean_squared_error: 0.0140 - val_loss: 0.0136 - val_mean_squared_error: 0.0136 - lr: 0.0000e+00\n",
      "Epoch 70/100\n",
      "1/4 [======>.......................] - ETA: 0s - loss: 0.0152 - mean_squared_error: 0.0152\n",
      "Epoch 70: val_loss did not improve from 0.13353\n",
      "4/4 [==============================] - 0s 24ms/step - loss: 0.0140 - mean_squared_error: 0.0140 - val_loss: 0.0136 - val_mean_squared_error: 0.0136 - lr: 0.0000e+00\n",
      "Epoch 71/100\n",
      "1/4 [======>.......................] - ETA: 0s - loss: 0.0149 - mean_squared_error: 0.0149\n",
      "Epoch 71: val_loss did not improve from 0.13353\n",
      "4/4 [==============================] - 0s 26ms/step - loss: 0.0144 - mean_squared_error: 0.0144 - val_loss: 0.0136 - val_mean_squared_error: 0.0136 - lr: 0.0000e+00\n",
      "Epoch 72/100\n",
      "1/4 [======>.......................] - ETA: 0s - loss: 0.0145 - mean_squared_error: 0.0145\n",
      "Epoch 72: val_loss did not improve from 0.13353\n",
      "4/4 [==============================] - 0s 25ms/step - loss: 0.0140 - mean_squared_error: 0.0140 - val_loss: 0.0136 - val_mean_squared_error: 0.0136 - lr: 0.0000e+00\n",
      "Epoch 73/100\n",
      "1/4 [======>.......................] - ETA: 0s - loss: 0.0149 - mean_squared_error: 0.0149\n",
      "Epoch 73: val_loss did not improve from 0.13353\n",
      "4/4 [==============================] - 0s 25ms/step - loss: 0.0140 - mean_squared_error: 0.0140 - val_loss: 0.0136 - val_mean_squared_error: 0.0136 - lr: 0.0000e+00\n",
      "Epoch 74/100\n",
      "1/4 [======>.......................] - ETA: 0s - loss: 0.0114 - mean_squared_error: 0.0114\n",
      "Epoch 74: val_loss did not improve from 0.13353\n",
      "4/4 [==============================] - 0s 26ms/step - loss: 0.0136 - mean_squared_error: 0.0136 - val_loss: 0.0136 - val_mean_squared_error: 0.0136 - lr: 0.0000e+00\n",
      "Epoch 75/100\n",
      "1/4 [======>.......................] - ETA: 0s - loss: 0.0130 - mean_squared_error: 0.0130\n",
      "Epoch 75: val_loss did not improve from 0.13353\n",
      "4/4 [==============================] - 0s 27ms/step - loss: 0.0134 - mean_squared_error: 0.0134 - val_loss: 0.0136 - val_mean_squared_error: 0.0136 - lr: 0.0000e+00\n",
      "Epoch 76/100\n",
      "1/4 [======>.......................] - ETA: 0s - loss: 0.0142 - mean_squared_error: 0.0142\n",
      "Epoch 76: val_loss did not improve from 0.13353\n",
      "4/4 [==============================] - 0s 29ms/step - loss: 0.0139 - mean_squared_error: 0.0139 - val_loss: 0.0136 - val_mean_squared_error: 0.0136 - lr: 0.0000e+00\n",
      "Epoch 77/100\n",
      "1/4 [======>.......................] - ETA: 0s - loss: 0.0139 - mean_squared_error: 0.0139\n",
      "Epoch 77: val_loss did not improve from 0.13353\n",
      "4/4 [==============================] - 0s 26ms/step - loss: 0.0139 - mean_squared_error: 0.0139 - val_loss: 0.0136 - val_mean_squared_error: 0.0136 - lr: 0.0000e+00\n",
      "Epoch 78/100\n",
      "3/4 [=====================>........] - ETA: 0s - loss: 0.0135 - mean_squared_error: 0.0135\n",
      "Epoch 78: val_loss did not improve from 0.13353\n",
      "4/4 [==============================] - 0s 43ms/step - loss: 0.0135 - mean_squared_error: 0.0135 - val_loss: 0.0136 - val_mean_squared_error: 0.0136 - lr: 0.0000e+00\n",
      "Epoch 79/100\n",
      "1/4 [======>.......................] - ETA: 0s - loss: 0.0109 - mean_squared_error: 0.0109\n",
      "Epoch 79: val_loss did not improve from 0.13353\n",
      "4/4 [==============================] - 0s 26ms/step - loss: 0.0135 - mean_squared_error: 0.0135 - val_loss: 0.0136 - val_mean_squared_error: 0.0136 - lr: 0.0000e+00\n",
      "Epoch 80/100\n",
      "1/4 [======>.......................] - ETA: 0s - loss: 0.0123 - mean_squared_error: 0.0123\n",
      "Epoch 80: val_loss did not improve from 0.13353\n",
      "4/4 [==============================] - 0s 26ms/step - loss: 0.0141 - mean_squared_error: 0.0141 - val_loss: 0.0136 - val_mean_squared_error: 0.0136 - lr: 0.0000e+00\n",
      "Epoch 81/100\n",
      "1/4 [======>.......................] - ETA: 0s - loss: 0.0142 - mean_squared_error: 0.0142\n",
      "Epoch 81: val_loss did not improve from 0.13353\n",
      "4/4 [==============================] - 0s 27ms/step - loss: 0.0136 - mean_squared_error: 0.0136 - val_loss: 0.0136 - val_mean_squared_error: 0.0136 - lr: 0.0000e+00\n",
      "Epoch 82/100\n",
      "1/4 [======>.......................] - ETA: 0s - loss: 0.0157 - mean_squared_error: 0.0157\n",
      "Epoch 82: val_loss did not improve from 0.13353\n",
      "4/4 [==============================] - 0s 27ms/step - loss: 0.0135 - mean_squared_error: 0.0135 - val_loss: 0.0136 - val_mean_squared_error: 0.0136 - lr: 0.0000e+00\n",
      "Epoch 83/100\n",
      "1/4 [======>.......................] - ETA: 0s - loss: 0.0139 - mean_squared_error: 0.0139\n",
      "Epoch 83: val_loss did not improve from 0.13353\n",
      "4/4 [==============================] - 0s 26ms/step - loss: 0.0135 - mean_squared_error: 0.0135 - val_loss: 0.0136 - val_mean_squared_error: 0.0136 - lr: 0.0000e+00\n",
      "Epoch 84/100\n",
      "1/4 [======>.......................] - ETA: 0s - loss: 0.0135 - mean_squared_error: 0.0135\n",
      "Epoch 84: val_loss did not improve from 0.13353\n",
      "4/4 [==============================] - 0s 25ms/step - loss: 0.0131 - mean_squared_error: 0.0131 - val_loss: 0.0136 - val_mean_squared_error: 0.0136 - lr: 0.0000e+00\n",
      "Epoch 85/100\n",
      "1/4 [======>.......................] - ETA: 0s - loss: 0.0173 - mean_squared_error: 0.0173\n",
      "Epoch 85: val_loss did not improve from 0.13353\n",
      "4/4 [==============================] - 0s 27ms/step - loss: 0.0142 - mean_squared_error: 0.0142 - val_loss: 0.0136 - val_mean_squared_error: 0.0136 - lr: 0.0000e+00\n",
      "Epoch 86/100\n",
      "1/4 [======>.......................] - ETA: 0s - loss: 0.0154 - mean_squared_error: 0.0154\n",
      "Epoch 86: val_loss did not improve from 0.13353\n",
      "4/4 [==============================] - 0s 27ms/step - loss: 0.0141 - mean_squared_error: 0.0141 - val_loss: 0.0136 - val_mean_squared_error: 0.0136 - lr: 0.0000e+00\n",
      "Epoch 87/100\n",
      "1/4 [======>.......................] - ETA: 0s - loss: 0.0148 - mean_squared_error: 0.0148\n",
      "Epoch 87: val_loss did not improve from 0.13353\n",
      "4/4 [==============================] - 0s 29ms/step - loss: 0.0139 - mean_squared_error: 0.0139 - val_loss: 0.0136 - val_mean_squared_error: 0.0136 - lr: 0.0000e+00\n",
      "Epoch 88/100\n",
      "1/4 [======>.......................] - ETA: 0s - loss: 0.0131 - mean_squared_error: 0.0131\n",
      "Epoch 88: val_loss did not improve from 0.13353\n",
      "4/4 [==============================] - 0s 26ms/step - loss: 0.0131 - mean_squared_error: 0.0131 - val_loss: 0.0136 - val_mean_squared_error: 0.0136 - lr: 0.0000e+00\n",
      "Epoch 89/100\n",
      "1/4 [======>.......................] - ETA: 0s - loss: 0.0142 - mean_squared_error: 0.0142\n",
      "Epoch 89: val_loss did not improve from 0.13353\n",
      "4/4 [==============================] - 0s 26ms/step - loss: 0.0143 - mean_squared_error: 0.0143 - val_loss: 0.0136 - val_mean_squared_error: 0.0136 - lr: 0.0000e+00\n",
      "Epoch 90/100\n",
      "1/4 [======>.......................] - ETA: 0s - loss: 0.0148 - mean_squared_error: 0.0148\n",
      "Epoch 90: val_loss did not improve from 0.13353\n",
      "4/4 [==============================] - 0s 25ms/step - loss: 0.0142 - mean_squared_error: 0.0142 - val_loss: 0.0136 - val_mean_squared_error: 0.0136 - lr: 0.0000e+00\n",
      "Epoch 91/100\n",
      "1/4 [======>.......................] - ETA: 0s - loss: 0.0161 - mean_squared_error: 0.0161\n",
      "Epoch 91: val_loss did not improve from 0.13353\n",
      "4/4 [==============================] - 0s 25ms/step - loss: 0.0152 - mean_squared_error: 0.0152 - val_loss: 0.0136 - val_mean_squared_error: 0.0136 - lr: 0.0000e+00\n",
      "Epoch 92/100\n",
      "1/4 [======>.......................] - ETA: 0s - loss: 0.0150 - mean_squared_error: 0.0150\n",
      "Epoch 92: val_loss did not improve from 0.13353\n",
      "4/4 [==============================] - 0s 25ms/step - loss: 0.0142 - mean_squared_error: 0.0142 - val_loss: 0.0136 - val_mean_squared_error: 0.0136 - lr: 0.0000e+00\n",
      "Epoch 93/100\n",
      "1/4 [======>.......................] - ETA: 0s - loss: 0.0167 - mean_squared_error: 0.0167\n",
      "Epoch 93: val_loss did not improve from 0.13353\n",
      "4/4 [==============================] - 0s 27ms/step - loss: 0.0141 - mean_squared_error: 0.0141 - val_loss: 0.0136 - val_mean_squared_error: 0.0136 - lr: 0.0000e+00\n",
      "Epoch 94/100\n",
      "1/4 [======>.......................] - ETA: 0s - loss: 0.0140 - mean_squared_error: 0.0140\n",
      "Epoch 94: val_loss did not improve from 0.13353\n",
      "4/4 [==============================] - 0s 25ms/step - loss: 0.0144 - mean_squared_error: 0.0144 - val_loss: 0.0136 - val_mean_squared_error: 0.0136 - lr: 0.0000e+00\n",
      "Epoch 95/100\n",
      "1/4 [======>.......................] - ETA: 0s - loss: 0.0138 - mean_squared_error: 0.0138\n",
      "Epoch 95: val_loss did not improve from 0.13353\n",
      "4/4 [==============================] - 0s 26ms/step - loss: 0.0146 - mean_squared_error: 0.0146 - val_loss: 0.0136 - val_mean_squared_error: 0.0136 - lr: 0.0000e+00\n",
      "Epoch 96/100\n",
      "1/4 [======>.......................] - ETA: 0s - loss: 0.0132 - mean_squared_error: 0.0132\n",
      "Epoch 96: val_loss did not improve from 0.13353\n",
      "4/4 [==============================] - 0s 27ms/step - loss: 0.0144 - mean_squared_error: 0.0144 - val_loss: 0.0136 - val_mean_squared_error: 0.0136 - lr: 0.0000e+00\n",
      "Epoch 97/100\n",
      "3/4 [=====================>........] - ETA: 0s - loss: 0.0134 - mean_squared_error: 0.0134\n",
      "Epoch 97: val_loss did not improve from 0.13353\n",
      "4/4 [==============================] - 0s 45ms/step - loss: 0.0137 - mean_squared_error: 0.0137 - val_loss: 0.0136 - val_mean_squared_error: 0.0136 - lr: 0.0000e+00\n",
      "Epoch 98/100\n",
      "1/4 [======>.......................] - ETA: 0s - loss: 0.0133 - mean_squared_error: 0.0133\n",
      "Epoch 98: val_loss did not improve from 0.13353\n",
      "4/4 [==============================] - 0s 25ms/step - loss: 0.0139 - mean_squared_error: 0.0139 - val_loss: 0.0136 - val_mean_squared_error: 0.0136 - lr: 0.0000e+00\n",
      "Epoch 99/100\n",
      "1/4 [======>.......................] - ETA: 0s - loss: 0.0141 - mean_squared_error: 0.0141\n",
      "Epoch 99: val_loss did not improve from 0.13353\n",
      "4/4 [==============================] - 0s 26ms/step - loss: 0.0137 - mean_squared_error: 0.0137 - val_loss: 0.0136 - val_mean_squared_error: 0.0136 - lr: 0.0000e+00\n",
      "Epoch 100/100\n",
      "1/4 [======>.......................] - ETA: 0s - loss: 0.0141 - mean_squared_error: 0.0141\n",
      "Epoch 100: val_loss did not improve from 0.13353\n",
      "4/4 [==============================] - 0s 25ms/step - loss: 0.0135 - mean_squared_error: 0.0135 - val_loss: 0.0136 - val_mean_squared_error: 0.0136 - lr: 0.0000e+00\n"
     ]
    }
   ],
   "source": [
    "# fitting the data i.e training the trainX, to relate to trainY\n",
    "history = model.fit(trainX, trainY, epochs=100 , batch_size = 128 , \n",
    "          callbacks = [checkpoint , lr_reduce] , validation_data = (testX,testY))    \n",
    "#callbacks are proper"
   ]
  },
  {
   "cell_type": "code",
   "execution_count": 28,
   "metadata": {},
   "outputs": [
    {
     "name": "stdout",
     "output_type": "stream",
     "text": [
      "4/4 [==============================] - 1s 5ms/step\n"
     ]
    },
    {
     "data": {
      "text/plain": [
       "array([[149.22713],\n",
       "       [149.76671],\n",
       "       [149.67572],\n",
       "       [150.5941 ],\n",
       "       [152.69464]], dtype=float32)"
      ]
     },
     "execution_count": 28,
     "metadata": {},
     "output_type": "execute_result"
    }
   ],
   "source": [
    "#predicting the value for testX\n",
    "pred = model.predict(testX)\n",
    "pred = scaler.inverse_transform(pred)\n",
    "pred[:5]\n",
    "# taking pred from 1 to 10"
   ]
  },
  {
   "cell_type": "code",
   "execution_count": 29,
   "metadata": {},
   "outputs": [
    {
     "data": {
      "text/plain": [
       "array([[143.86],\n",
       "       [143.39],\n",
       "       [147.27],\n",
       "       [149.45],\n",
       "       [152.34]], dtype=float32)"
      ]
     },
     "execution_count": 29,
     "metadata": {},
     "output_type": "execute_result"
    }
   ],
   "source": [
    "# reshaping testY in single array\n",
    "testY = testY.reshape(testY.shape[0] , 1)\n",
    "testY = scaler.inverse_transform(testY)\n",
    "testY[:5]"
   ]
  },
  {
   "cell_type": "code",
   "execution_count": 30,
   "metadata": {},
   "outputs": [
    {
     "name": "stdout",
     "output_type": "stream",
     "text": [
      "Red - Predicted Stock Prices  ,  Blue - Actual Stock Prices\n"
     ]
    },
    {
     "data": {
      "image/png": "[encoded data removed]",
      "text/plain": [
       "<Figure size 1080x504 with 1 Axes>"
      ]
     },
     "metadata": {
      "needs_background": "light"
     },
     "output_type": "display_data"
    }
   ],
   "source": [
    "# ploting the graph of stock prices with time\n",
    "print(\"Red - Predicted Stock Prices  ,  Blue - Actual Stock Prices\")\n",
    "plt.rcParams[\"figure.figsize\"] = (15,7)\n",
    "plt.plot(testY , 'b')\n",
    "plt.plot(pred , 'r')\n",
    "plt.xlabel('Time')\n",
    "plt.ylabel('Stock Prices')\n",
    "plt.title('Check the accuracy of the model with time')\n",
    "plt.grid(True)\n",
    "plt.show()"
   ]
  },
  {
   "cell_type": "code",
   "execution_count": 31,
   "metadata": {},
   "outputs": [
    {
     "name": "stdout",
     "output_type": "stream",
     "text": [
      "13/13 [==============================] - 0s 4ms/step\n"
     ]
    },
    {
     "data": {
      "text/plain": [
       "array([[136.2503 ],\n",
       "       [134.56956],\n",
       "       [135.28842],\n",
       "       [136.29501],\n",
       "       [135.32481]], dtype=float32)"
      ]
     },
     "execution_count": 31,
     "metadata": {},
     "output_type": "execute_result"
    }
   ],
   "source": [
    "#predicting the value for testX\n",
    "pred = model.predict(trainX)\n",
    "pred = scaler.inverse_transform(pred)\n",
    "pred[:5]\n",
    "# taking pred from 1 to 10"
   ]
  },
  {
   "cell_type": "code",
   "execution_count": 32,
   "metadata": {},
   "outputs": [
    {
     "name": "stdout",
     "output_type": "stream",
     "text": [
      "Red - Predicted Stock Prices  ,  Blue - Actual Stock Prices\n"
     ]
    },
    {
     "data": {
      "image/png": "[encoded data removed]",
      "text/plain": [
       "<Figure size 1080x504 with 1 Axes>"
      ]
     },
     "metadata": {
      "needs_background": "light"
     },
     "output_type": "display_data"
    }
   ],
   "source": [
    "# ploting the graph of stock prices with time\n",
    "print(\"Red - Predicted Stock Prices  ,  Blue - Actual Stock Prices\")\n",
    "plt.rcParams[\"figure.figsize\"] = (15,7)\n",
    "plt.plot(testY , 'b')\n",
    "plt.plot(pred , 'r')\n",
    "plt.xlabel('Time')\n",
    "plt.ylabel('Stock Prices')\n",
    "plt.title('Check the accuracy of the model with time')\n",
    "plt.grid(True)\n",
    "plt.show()"
   ]
  }
 ],
 "metadata": {
  "kernelspec": {
   "display_name": "Python 3",
   "language": "python",
   "name": "python3"
  },
  "language_info": {
   "codemirror_mode": {
    "name": "ipython",
    "version": 3
   },
   "file_extension": ".py",
   "mimetype": "text/x-python",
   "name": "python",
   "nbconvert_exporter": "python",
   "pygments_lexer": "ipython3",
   "version": "3.9.6"
  },
  "orig_nbformat": 4,
  "vscode": {
   "interpreter": {
    "hash": "52634da84371cba311ea128a5ea7cdc41ff074b781779e754b270ff9f8153cee"
   }
  }
 },
 "nbformat": 4,
 "nbformat_minor": 2
}
