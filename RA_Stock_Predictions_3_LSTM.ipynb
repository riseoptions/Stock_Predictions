{
 "cells": [
  {
   "cell_type": "code",
   "execution_count": 200,
   "metadata": {},
   "outputs": [],
   "source": [
    "#!pip install pandas_datareader"
   ]
  },
  {
   "cell_type": "code",
   "execution_count": 201,
   "metadata": {},
   "outputs": [],
   "source": [
    "import numpy as np\n",
    "import pandas as pd\n",
    "\n",
    "import os\n",
    "import matplotlib.pyplot as plt\n",
    "import pandas_datareader as web\n",
    "import datetime as dt\n",
    "\n",
    "from sklearn.preprocessing import MinMaxScaler\n",
    "from tensorflow.keras.models import Sequential\n",
    "from tensorflow.keras.layers import Dense, Dropout, LSTM\n",
    "from tensorflow.keras.callbacks import ModelCheckpoint, EarlyStopping"
   ]
  },
  {
   "cell_type": "code",
   "execution_count": 202,
   "metadata": {},
   "outputs": [],
   "source": [
    "COMPANY = 'AAPL'"
   ]
  },
  {
   "cell_type": "code",
   "execution_count": 203,
   "metadata": {},
   "outputs": [],
   "source": [
    "# how many days do i want to base my predictions on ?\n",
    "prediction_days = 120"
   ]
  },
  {
   "cell_type": "code",
   "execution_count": 204,
   "metadata": {},
   "outputs": [
    {
     "data": {
      "text/html": [
       "<div>\n",
       "<style scoped>\n",
       "    .dataframe tbody tr th:only-of-type {\n",
       "        vertical-align: middle;\n",
       "    }\n",
       "\n",
       "    .dataframe tbody tr th {\n",
       "        vertical-align: top;\n",
       "    }\n",
       "\n",
       "    .dataframe thead th {\n",
       "        text-align: right;\n",
       "    }\n",
       "</style>\n",
       "<table border=\"1\" class=\"dataframe\">\n",
       "  <thead>\n",
       "    <tr style=\"text-align: right;\">\n",
       "      <th></th>\n",
       "      <th>Close</th>\n",
       "    </tr>\n",
       "  </thead>\n",
       "  <tbody>\n",
       "    <tr>\n",
       "      <th>0</th>\n",
       "      <td>45.430000</td>\n",
       "    </tr>\n",
       "    <tr>\n",
       "      <th>1</th>\n",
       "      <td>44.992500</td>\n",
       "    </tr>\n",
       "    <tr>\n",
       "      <th>2</th>\n",
       "      <td>44.610001</td>\n",
       "    </tr>\n",
       "    <tr>\n",
       "      <th>3</th>\n",
       "      <td>44.662498</td>\n",
       "    </tr>\n",
       "    <tr>\n",
       "      <th>4</th>\n",
       "      <td>44.505001</td>\n",
       "    </tr>\n",
       "  </tbody>\n",
       "</table>\n",
       "</div>"
      ],
      "text/plain": [
       "       Close\n",
       "0  45.430000\n",
       "1  44.992500\n",
       "2  44.610001\n",
       "3  44.662498\n",
       "4  44.505001"
      ]
     },
     "execution_count": 204,
     "metadata": {},
     "output_type": "execute_result"
    }
   ],
   "source": [
    "df = pd.read_csv(COMPANY+'.csv')\n",
    "data = df.iloc[:,4:5]\n",
    "data.head()"
   ]
  },
  {
   "cell_type": "code",
   "execution_count": 205,
   "metadata": {},
   "outputs": [
    {
     "data": {
      "text/plain": [
       "array([[0.06747461],\n",
       "       [0.06448749],\n",
       "       [0.06187591],\n",
       "       ...,\n",
       "       [0.80104121],\n",
       "       [0.7854741 ],\n",
       "       [0.77120426]])"
      ]
     },
     "execution_count": 205,
     "metadata": {},
     "output_type": "execute_result"
    }
   ],
   "source": [
    "# Normalize data\n",
    "scaler = MinMaxScaler(feature_range=(0,1))\n",
    "scaled_data = scaler.fit_transform(df['Close'].values.reshape(-1,1))\n",
    "scaled_data"
   ]
  },
  {
   "cell_type": "code",
   "execution_count": 206,
   "metadata": {},
   "outputs": [
    {
     "data": {
      "text/plain": [
       "(1007, 252)"
      ]
     },
     "execution_count": 206,
     "metadata": {},
     "output_type": "execute_result"
    }
   ],
   "source": [
    "train = int(len(scaled_data) * 0.80) #creating sizes of train and taking 80% percentage of the part\n",
    "test = len(scaled_data) - train #creating sizes of test as total minus train\n",
    "train,test"
   ]
  },
  {
   "cell_type": "code",
   "execution_count": 207,
   "metadata": {},
   "outputs": [],
   "source": [
    "# how many days do i want to base my predictions on ?\n",
    "#prediction_days = 60\n",
    "\n",
    "x_train = []\n",
    "y_train = []\n",
    "\n",
    "for x in range(prediction_days, len(scaled_data)):\n",
    "    x_train.append(scaled_data[x - prediction_days:x, 0])\n",
    "    y_train.append(scaled_data[x, 0])\n",
    "    \n",
    "x_train, y_train = np.array(x_train), np.array(y_train)\n",
    "x_train = np.reshape(x_train, (x_train.shape[0], x_train.shape[1], 1))"
   ]
  },
  {
   "cell_type": "code",
   "execution_count": 208,
   "metadata": {},
   "outputs": [],
   "source": [
    "\n",
    "\n",
    "def LSTM_model():\n",
    "    \n",
    "    model = Sequential()\n",
    "    \n",
    "    model.add(LSTM(units = 50, return_sequences = True, input_shape = (x_train.shape[1],1)))\n",
    "    model.add(Dropout(0.2))\n",
    "\n",
    "    model.add(LSTM(units = 50, return_sequences = True))\n",
    "    model.add(Dropout(0.2))\n",
    "\n",
    "    model.add(LSTM(units = 50))\n",
    "    model.add(Dropout(0.2))\n",
    "    \n",
    "    model.add(Dense(units=1))\n",
    "    \n",
    "    return model\n",
    "\n"
   ]
  },
  {
   "cell_type": "code",
   "execution_count": 209,
   "metadata": {},
   "outputs": [
    {
     "name": "stdout",
     "output_type": "stream",
     "text": [
      "Model: \"sequential_10\"\n",
      "_________________________________________________________________\n",
      " Layer (type)                Output Shape              Param #   \n",
      "=================================================================\n",
      " lstm_30 (LSTM)              (None, 120, 50)           10400     \n",
      "                                                                 \n",
      " dropout_30 (Dropout)        (None, 120, 50)           0         \n",
      "                                                                 \n",
      " lstm_31 (LSTM)              (None, 120, 50)           20200     \n",
      "                                                                 \n",
      " dropout_31 (Dropout)        (None, 120, 50)           0         \n",
      "                                                                 \n",
      " lstm_32 (LSTM)              (None, 50)                20200     \n",
      "                                                                 \n",
      " dropout_32 (Dropout)        (None, 50)                0         \n",
      "                                                                 \n",
      " dense_10 (Dense)            (None, 1)                 51        \n",
      "                                                                 \n",
      "=================================================================\n",
      "Total params: 50,851\n",
      "Trainable params: 50,851\n",
      "Non-trainable params: 0\n",
      "_________________________________________________________________\n"
     ]
    }
   ],
   "source": [
    "model = LSTM_model()\n",
    "model.summary()\n",
    "model.compile(optimizer='adam', \n",
    "              loss='mean_squared_error')"
   ]
  },
  {
   "cell_type": "code",
   "execution_count": 210,
   "metadata": {},
   "outputs": [
    {
     "name": "stdout",
     "output_type": "stream",
     "text": [
      "Epoch 1/20\n",
      "36/36 [==============================] - ETA: 0s - loss: 0.0454WARNING:tensorflow:Can save best model only with val_loss available, skipping.\n",
      "36/36 [==============================] - 11s 125ms/step - loss: 0.0454\n",
      "Epoch 2/20\n",
      "36/36 [==============================] - ETA: 0s - loss: 0.0066WARNING:tensorflow:Can save best model only with val_loss available, skipping.\n",
      "36/36 [==============================] - 4s 125ms/step - loss: 0.0066\n",
      "Epoch 3/20\n",
      "36/36 [==============================] - ETA: 0s - loss: 0.0052WARNING:tensorflow:Can save best model only with val_loss available, skipping.\n",
      "36/36 [==============================] - 5s 134ms/step - loss: 0.0052\n",
      "Epoch 4/20\n",
      "36/36 [==============================] - ETA: 0s - loss: 0.0051WARNING:tensorflow:Can save best model only with val_loss available, skipping.\n",
      "36/36 [==============================] - 5s 127ms/step - loss: 0.0051\n",
      "Epoch 5/20\n",
      "36/36 [==============================] - ETA: 0s - loss: 0.0043WARNING:tensorflow:Can save best model only with val_loss available, skipping.\n",
      "36/36 [==============================] - 5s 126ms/step - loss: 0.0043\n",
      "Epoch 6/20\n",
      "36/36 [==============================] - ETA: 0s - loss: 0.0043WARNING:tensorflow:Can save best model only with val_loss available, skipping.\n",
      "36/36 [==============================] - 4s 125ms/step - loss: 0.0043\n",
      "Epoch 7/20\n",
      "36/36 [==============================] - ETA: 0s - loss: 0.0039WARNING:tensorflow:Can save best model only with val_loss available, skipping.\n",
      "36/36 [==============================] - 5s 127ms/step - loss: 0.0039\n",
      "Epoch 8/20\n",
      "36/36 [==============================] - ETA: 0s - loss: 0.0036WARNING:tensorflow:Can save best model only with val_loss available, skipping.\n",
      "36/36 [==============================] - 5s 137ms/step - loss: 0.0036\n",
      "Epoch 9/20\n",
      "36/36 [==============================] - ETA: 0s - loss: 0.0045WARNING:tensorflow:Can save best model only with val_loss available, skipping.\n",
      "36/36 [==============================] - 5s 127ms/step - loss: 0.0045\n",
      "Epoch 10/20\n",
      "36/36 [==============================] - ETA: 0s - loss: 0.0040WARNING:tensorflow:Can save best model only with val_loss available, skipping.\n",
      "36/36 [==============================] - 5s 136ms/step - loss: 0.0040\n",
      "Epoch 11/20\n",
      "36/36 [==============================] - ETA: 0s - loss: 0.0040WARNING:tensorflow:Can save best model only with val_loss available, skipping.\n",
      "36/36 [==============================] - 5s 145ms/step - loss: 0.0040\n",
      "Epoch 12/20\n",
      "36/36 [==============================] - ETA: 0s - loss: 0.0038WARNING:tensorflow:Can save best model only with val_loss available, skipping.\n",
      "36/36 [==============================] - 6s 166ms/step - loss: 0.0038\n",
      "Epoch 13/20\n",
      "36/36 [==============================] - ETA: 0s - loss: 0.0035WARNING:tensorflow:Can save best model only with val_loss available, skipping.\n",
      "36/36 [==============================] - 6s 161ms/step - loss: 0.0035\n",
      "Epoch 14/20\n",
      "36/36 [==============================] - ETA: 0s - loss: 0.0040WARNING:tensorflow:Can save best model only with val_loss available, skipping.\n",
      "36/36 [==============================] - 5s 147ms/step - loss: 0.0040\n",
      "Epoch 15/20\n",
      "36/36 [==============================] - ETA: 0s - loss: 0.0036WARNING:tensorflow:Can save best model only with val_loss available, skipping.\n",
      "36/36 [==============================] - 5s 150ms/step - loss: 0.0036\n",
      "Epoch 16/20\n",
      "36/36 [==============================] - ETA: 0s - loss: 0.0038WARNING:tensorflow:Can save best model only with val_loss available, skipping.\n",
      "36/36 [==============================] - 5s 142ms/step - loss: 0.0038\n",
      "Epoch 17/20\n",
      "36/36 [==============================] - ETA: 0s - loss: 0.0032WARNING:tensorflow:Can save best model only with val_loss available, skipping.\n",
      "36/36 [==============================] - 5s 143ms/step - loss: 0.0032\n",
      "Epoch 18/20\n",
      "36/36 [==============================] - ETA: 0s - loss: 0.0035WARNING:tensorflow:Can save best model only with val_loss available, skipping.\n",
      "36/36 [==============================] - 5s 146ms/step - loss: 0.0035\n",
      "Epoch 19/20\n",
      "36/36 [==============================] - ETA: 0s - loss: 0.0034WARNING:tensorflow:Can save best model only with val_loss available, skipping.\n",
      "36/36 [==============================] - 6s 155ms/step - loss: 0.0034\n",
      "Epoch 20/20\n",
      "36/36 [==============================] - ETA: 0s - loss: 0.0033WARNING:tensorflow:Can save best model only with val_loss available, skipping.\n",
      "36/36 [==============================] - 5s 152ms/step - loss: 0.0033\n"
     ]
    },
    {
     "data": {
      "text/plain": [
       "<keras.callbacks.History at 0x17d894ca1c0>"
      ]
     },
     "execution_count": 210,
     "metadata": {},
     "output_type": "execute_result"
    }
   ],
   "source": [
    "# Define callbacks\n",
    "\n",
    "# Save weights only for best model\n",
    "checkpointer = ModelCheckpoint(filepath = 'weights_best.hdf5', \n",
    "                               verbose = 2, \n",
    "                               save_best_only = True)\n",
    "\n",
    "model.fit(x_train, \n",
    "          y_train, \n",
    "          epochs=20, \n",
    "          batch_size = 32,\n",
    "          callbacks = [checkpointer])"
   ]
  },
  {
   "cell_type": "code",
   "execution_count": 211,
   "metadata": {},
   "outputs": [],
   "source": [
    "# test model accuracy on existing data\n",
    "test_data = data[train:]\n",
    "\n",
    "actual_prices = test_data['Close'].values\n",
    "\n",
    "total_dataset = pd.concat((data['Close'], test_data['Close']), axis=0)\n",
    "\n",
    "model_inputs = total_dataset[len(total_dataset) - len(test_data) - prediction_days:].values\n",
    "model_inputs = model_inputs.reshape(-1,1)\n",
    "model_inputs = scaler.transform(model_inputs)"
   ]
  },
  {
   "cell_type": "code",
   "execution_count": 212,
   "metadata": {},
   "outputs": [
    {
     "name": "stdout",
     "output_type": "stream",
     "text": [
      "8/8 [==============================] - 2s 46ms/step\n"
     ]
    }
   ],
   "source": [
    "x_test = []\n",
    "for x in range(prediction_days, len(model_inputs)):\n",
    "    x_test.append(model_inputs[x-prediction_days:x, 0])\n",
    "\n",
    "x_test = np.array(x_test)\n",
    "x_test = np.reshape(x_test, (x_test.shape[0], x_test.shape[1] ,1))\n",
    "\n",
    "predicted_prices = model.predict(x_test)\n",
    "predicted_prices = scaler.inverse_transform(predicted_prices)"
   ]
  },
  {
   "cell_type": "code",
   "execution_count": 213,
   "metadata": {},
   "outputs": [
    {
     "data": {
      "image/png": "[encoded data removed]",
      "text/plain": [
       "<Figure size 1080x504 with 1 Axes>"
      ]
     },
     "metadata": {
      "needs_background": "light"
     },
     "output_type": "display_data"
    }
   ],
   "source": [
    "plt.rcParams[\"figure.figsize\"] = (15,7)\n",
    "plt.plot(actual_prices, color='blue', label=f\"Actual {COMPANY} price\")\n",
    "plt.plot(predicted_prices, color= 'red', label=f\"predicted {COMPANY} price\")\n",
    "plt.title(f\"{COMPANY} share price\")\n",
    "plt.xlabel(\"time\")\n",
    "plt.ylabel(f\"{COMPANY} share price\")\n",
    "plt.legend()\n",
    "plt.show()"
   ]
  },
  {
   "cell_type": "code",
   "execution_count": 214,
   "metadata": {},
   "outputs": [],
   "source": [
    "# predicting next day\n",
    "real_data = [model_inputs[len(model_inputs)+1 - prediction_days:len(model_inputs+1),0]]\n",
    "real_data = np.array(real_data)\n",
    "real_data = np.reshape(real_data, (real_data.shape[0], real_data.shape[1], 1))"
   ]
  },
  {
   "cell_type": "code",
   "execution_count": 215,
   "metadata": {},
   "outputs": [
    {
     "name": "stdout",
     "output_type": "stream",
     "text": [
      "1/1 [==============================] - 1s 1s/step\n",
      "prediction: [[147.6158]]\n"
     ]
    }
   ],
   "source": [
    "prediction = model.predict(real_data)\n",
    "prediction = scaler.inverse_transform(prediction)\n",
    "print(f\"prediction: {prediction}\")"
   ]
  },
  {
   "cell_type": "code",
   "execution_count": 216,
   "metadata": {},
   "outputs": [
    {
     "name": "stdout",
     "output_type": "stream",
     "text": [
      "Last price:  148.5\n",
      "Predicted price:  147.6158\n"
     ]
    }
   ],
   "source": [
    "#data['Close'][1258]\n",
    "P = data['Close'].values\n",
    "print('Last price: ',P[-1])\n",
    "print('Predicted price: ',prediction[0][0])"
   ]
  }
 ],
 "metadata": {
  "kernelspec": {
   "display_name": "Python 3",
   "language": "python",
   "name": "python3"
  },
  "language_info": {
   "codemirror_mode": {
    "name": "ipython",
    "version": 3
   },
   "file_extension": ".py",
   "mimetype": "text/x-python",
   "name": "python",
   "nbconvert_exporter": "python",
   "pygments_lexer": "ipython3",
   "version": "3.9.6"
  },
  "orig_nbformat": 4,
  "vscode": {
   "interpreter": {
    "hash": "52634da84371cba311ea128a5ea7cdc41ff074b781779e754b270ff9f8153cee"
   }
  }
 },
 "nbformat": 4,
 "nbformat_minor": 2
}
